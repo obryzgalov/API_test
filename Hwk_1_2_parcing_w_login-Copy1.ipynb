{
 "cells": [
  {
   "cell_type": "markdown",
   "id": "e79d1385",
   "metadata": {},
   "source": [
    "2. Изучить список открытых API (https://www.programmableweb.com/category/all/apis). Найти среди них любое, требующее авторизацию (любого типа). Выполнить запросы к нему, пройдя авторизацию. Ответ сервера записать в файл."
   ]
  },
  {
   "cell_type": "code",
   "execution_count": 1,
   "id": "b9553171",
   "metadata": {},
   "outputs": [],
   "source": [
    "import requests #импорт библиотеки\n",
    "import json"
   ]
  },
  {
   "cell_type": "markdown",
   "id": "2e6aef28",
   "metadata": {},
   "source": [
    "Во вкладке General инструмента разработчика находим строку логина по признакам -Метод POST и тип login, user и т.п.\n",
    "эту строку будем использовать как URL для входа"
   ]
  },
  {
   "cell_type": "code",
   "execution_count": 2,
   "id": "221fa9f3",
   "metadata": {},
   "outputs": [],
   "source": [
    "url = 'https://api.ivi.ru/mobileapi/user/login/ivi/v5/' "
   ]
  },
  {
   "cell_type": "markdown",
   "id": "a8e59150",
   "metadata": {},
   "source": [
    "из вкладки \"Заголовки\" утаскиваем в headers тип браузера (User-agent)"
   ]
  },
  {
   "cell_type": "code",
   "execution_count": 3,
   "id": "15a270ab",
   "metadata": {},
   "outputs": [],
   "source": [
    "headers = {\n",
    "    'User-Agent': 'Mozilla/5.0 (X11; Ubuntu; Linux x86_64; rv:109.0) Gecko/20100101 Firefox/109.0'\n",
    "}"
   ]
  },
  {
   "cell_type": "markdown",
   "id": "334915fb",
   "metadata": {},
   "source": [
    "из вкладки data тащим ниже приведенные данные для логина в одноименный раздел"
   ]
  },
  {
   "cell_type": "code",
   "execution_count": 4,
   "id": "f407ba02",
   "metadata": {},
   "outputs": [],
   "source": [
    "data = {\n",
    "    'email': 'oleg.privatepost@yandex.ru',\n",
    "    'password': 'Newlife21',\n",
    "    'device': 'Ubuntu+Firefox+v.109.0+79bf4',\n",
    "    'app_version': '870'\n",
    "}"
   ]
  },
  {
   "cell_type": "markdown",
   "id": "7be3aa4e",
   "metadata": {},
   "source": [
    "запуск сессии с заданными параметрами/авторизацией"
   ]
  },
  {
   "cell_type": "code",
   "execution_count": 5,
   "id": "49d8bc39",
   "metadata": {},
   "outputs": [],
   "source": [
    "session = requests.Session()\n",
    "session.headers.update(headers)\n",
    "response =  session.post(url, data=data)"
   ]
  },
  {
   "cell_type": "code",
   "execution_count": 6,
   "id": "b36f48dc",
   "metadata": {},
   "outputs": [
    {
     "data": {
      "text/plain": [
       "{'result': {'id': 2033884823,\n",
       "  'gender': 0,\n",
       "  'birthday': None,\n",
       "  'session': '403c71c62033884823_1692188779-648992998uogrhSVEO1Niw_7YEjZPHA',\n",
       "  'expiration': '2023-08-16T12:26:19Z',\n",
       "  'firstname': None,\n",
       "  'lastname': None,\n",
       "  'subscribed': True,\n",
       "  'origin_app_version': 870,\n",
       "  'actual_app_version': 870,\n",
       "  'payment_credentials': {},\n",
       "  'email': 'oleg.privatepost@yandex.ru',\n",
       "  'email_real': 1,\n",
       "  'msisdn': '',\n",
       "  'confirmed': 1,\n",
       "  'storageless': False,\n",
       "  'is_debug': False,\n",
       "  'children': [],\n",
       "  'basic': '0.0000',\n",
       "  'bonus': '0.0000'}}"
      ]
     },
     "execution_count": 6,
     "metadata": {},
     "output_type": "execute_result"
    }
   ],
   "source": [
    "response.json()"
   ]
  },
  {
   "cell_type": "markdown",
   "id": "8e6a82d1",
   "metadata": {},
   "source": [
    "ответ возвратил данные юзверя"
   ]
  },
  {
   "cell_type": "code",
   "execution_count": 8,
   "id": "fbaf548e",
   "metadata": {},
   "outputs": [],
   "source": [
    "u_data = response.json()"
   ]
  },
  {
   "cell_type": "code",
   "execution_count": 9,
   "id": "e2ec7c23",
   "metadata": {},
   "outputs": [],
   "source": [
    "with open('1_1_ivi.json', 'w') as f:\n",
    "    json_ivi = json.dump(u_data, f)"
   ]
  }
 ],
 "metadata": {
  "kernelspec": {
   "display_name": "Python 3 (ipykernel)",
   "language": "python",
   "name": "python3"
  },
  "language_info": {
   "codemirror_mode": {
    "name": "ipython",
    "version": 3
   },
   "file_extension": ".py",
   "mimetype": "text/x-python",
   "name": "python",
   "nbconvert_exporter": "python",
   "pygments_lexer": "ipython3",
   "version": "3.9.12"
  }
 },
 "nbformat": 4,
 "nbformat_minor": 5
}
